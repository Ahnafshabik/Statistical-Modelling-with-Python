{
 "cells": [
  {
   "cell_type": "markdown",
   "metadata": {},
   "source": [
    "# CityBikes"
   ]
  },
  {
   "cell_type": "markdown",
   "metadata": {},
   "source": [
    "Send a request to CityBikes for the city of your choice. "
   ]
  },
  {
   "cell_type": "code",
   "execution_count": 4,
   "metadata": {
    "tags": []
   },
   "outputs": [],
   "source": [
    "import requests\n",
    "\n",
    "# Make a request to the API\n",
    "response = requests.get('http://api.citybik.es/v2/networks')\n",
    "networks = response.json()['networks']\n",
    "\n",
    "# Choose a city\n",
    "city = 'Vancouver'\n",
    "city_network = next((network for network in networks if network['location']['city'] == city), None)\n",
    "\n"
   ]
  },
  {
   "cell_type": "markdown",
   "metadata": {},
   "source": [
    "Parse through the response to get the details you want for the bike stations in that city (latitude, longitude, number of bikes). "
   ]
  },
  {
   "cell_type": "code",
   "execution_count": 5,
   "metadata": {
    "tags": []
   },
   "outputs": [],
   "source": [
    "    \n",
    "if city_network:\n",
    "    city_network_id = city_network['id']\n",
    "    response = requests.get(f'http://api.citybik.es/v2/networks/{city_network_id}')\n",
    "    stations = response.json()['network']['stations']\n",
    "\n",
    "    # Create an empty list to store the station data\n",
    "\n",
    "    station_data = []\n",
    "    # Loop through the stations\n",
    "    for station in stations:\n",
    "        # Get the latitude, longitude, and number of bikes\n",
    "        latitude = station['latitude']\n",
    "        longitude = station['longitude']\n",
    "        num_bikes = station['free_bikes']\n",
    "\n",
    "        # Add the data to the list\n",
    "        station_data.append({\n",
    "            'latitude': latitude,\n",
    "            'longitude': longitude,\n",
    "            'num_bikes': num_bikes\n",
    "        })\n",
    "        #print(station_data)\n",
    "else:\n",
    "    print(f'No bike sharing network found for {city}')\n",
    "    \n",
    "    \n",
    "    \n"
   ]
  },
  {
   "cell_type": "markdown",
   "metadata": {},
   "source": [
    "Put your parsed results into a DataFrame."
   ]
  },
  {
   "cell_type": "code",
   "execution_count": 7,
   "metadata": {
    "tags": []
   },
   "outputs": [
    {
     "name": "stderr",
     "output_type": "stream",
     "text": [
      "C:\\Users\\Ahnaf\\AppData\\Local\\Temp\\ipykernel_7340\\1415190895.py:4: FutureWarning: As the xlwt package is no longer maintained, the xlwt engine will be removed in a future version of pandas. This is the only engine in pandas that supports writing in the xls format. Install openpyxl and write to an xlsx file instead. You can set the option io.excel.xls.writer to 'xlwt' to silence this warning. While this option is deprecated and will also raise a warning, it can be globally set and the warning suppressed.\n",
      "  df.to_excel('CityBike.xls')\n"
     ]
    },
    {
     "data": {
      "text/plain": [
       "(245, 3)"
      ]
     },
     "execution_count": 7,
     "metadata": {},
     "output_type": "execute_result"
    }
   ],
   "source": [
    "import pandas as pd\n",
    "\n",
    "df=pd.DataFrame(station_data)\n",
    "df.to_excel('CityBike.xls')\n",
    "df.shape"
   ]
  },
  {
   "cell_type": "code",
   "execution_count": null,
   "metadata": {},
   "outputs": [],
   "source": []
  }
 ],
 "metadata": {
  "kernelspec": {
   "display_name": "Python 3 (ipykernel)",
   "language": "python",
   "name": "python3"
  },
  "language_info": {
   "codemirror_mode": {
    "name": "ipython",
    "version": 3
   },
   "file_extension": ".py",
   "mimetype": "text/x-python",
   "name": "python",
   "nbconvert_exporter": "python",
   "pygments_lexer": "ipython3",
   "version": "3.11.3"
  }
 },
 "nbformat": 4,
 "nbformat_minor": 4
}
